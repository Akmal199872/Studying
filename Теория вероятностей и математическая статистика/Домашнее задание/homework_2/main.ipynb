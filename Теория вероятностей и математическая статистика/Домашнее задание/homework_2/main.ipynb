{
 "cells": [
  {
   "cell_type": "code",
   "execution_count": 1,
   "id": "d1c816b4",
   "metadata": {},
   "outputs": [],
   "source": [
    "import numpy as np"
   ]
  },
  {
   "cell_type": "code",
   "execution_count": 2,
   "id": "af29e3c6",
   "metadata": {},
   "outputs": [],
   "source": [
    "def factor_calc(num1):\n",
    "    return np.math.factorial(num1)"
   ]
  },
  {
   "cell_type": "code",
   "execution_count": 3,
   "id": "1bf462e3",
   "metadata": {},
   "outputs": [],
   "source": [
    "def count_match(num1, num2):\n",
    "    numerator = factor_calc(num2)\n",
    "    denominator = factor_calc((num2 - num1)) * factor_calc(num1)\n",
    "    return numerator / denominator"
   ]
  },
  {
   "cell_type": "markdown",
   "id": "51b2b388",
   "metadata": {},
   "source": [
    "Задача №1"
   ]
  },
  {
   "cell_type": "code",
   "execution_count": 39,
   "id": "b3ca71da",
   "metadata": {},
   "outputs": [
    {
     "data": {
      "text/plain": [
       "array([72, 71, 68, 65, 62, 62, 82, 66, 71, 64, 70, 62, 66, 71, 72, 65, 68,\n",
       "       63, 65, 73, 71, 75, 69, 64, 70, 62, 75, 66, 70, 63, 64, 71, 71, 68,\n",
       "       68, 64, 67, 68, 75, 66, 74, 71, 75, 71, 71, 61, 68, 70, 71, 74, 73,\n",
       "       67, 74, 71, 67, 68, 63, 71, 70, 67, 68, 69, 64, 69, 67, 70, 73, 65,\n",
       "       66, 78, 70, 75, 67, 63, 71, 74, 69, 69, 66, 59, 74, 66, 72, 69, 70,\n",
       "       68, 69, 62, 65, 66, 75, 71, 74, 72, 66, 74, 73, 62, 66, 68])"
      ]
     },
     "execution_count": 39,
     "metadata": {},
     "output_type": "execute_result"
    }
   ],
   "source": [
    "np.random.binomial(n=85, p=0.8, size=100)"
   ]
  },
  {
   "cell_type": "code",
   "execution_count": 50,
   "id": "d04d1e63",
   "metadata": {},
   "outputs": [
    {
     "data": {
      "text/plain": [
       "0.04806179370074656"
      ]
     },
     "execution_count": 50,
     "metadata": {},
     "output_type": "execute_result"
    }
   ],
   "source": [
    "count_match(85, 100)*(np.math.pow(0.8, 85)*(np.math.pow(0.2, 15)))"
   ]
  },
  {
   "cell_type": "markdown",
   "id": "e658d436",
   "metadata": {},
   "source": [
    "Задача №2"
   ]
  },
  {
   "cell_type": "code",
   "execution_count": 43,
   "id": "f04a31e8",
   "metadata": {},
   "outputs": [
    {
     "data": {
      "text/plain": [
       "array([0, 0, 0, ..., 0, 0, 0])"
      ]
     },
     "execution_count": 43,
     "metadata": {},
     "output_type": "execute_result"
    }
   ],
   "source": [
    "np.random.binomial(n=0, p=0.0004, size=5000)"
   ]
  },
  {
   "cell_type": "code",
   "execution_count": 51,
   "id": "fc11dae5",
   "metadata": {},
   "outputs": [
    {
     "data": {
      "text/plain": [
       "0.13528114551440706"
      ]
     },
     "execution_count": 51,
     "metadata": {},
     "output_type": "execute_result"
    }
   ],
   "source": [
    "count_match(0, 5000)*(np.math.pow(0.0004, 0)*(np.math.pow(1-0.0004, 5000)))"
   ]
  },
  {
   "cell_type": "code",
   "execution_count": 52,
   "id": "06f8cb29",
   "metadata": {},
   "outputs": [
    {
     "data": {
      "text/plain": [
       "array([0, 0, 0, ..., 0, 0, 0])"
      ]
     },
     "execution_count": 52,
     "metadata": {},
     "output_type": "execute_result"
    }
   ],
   "source": [
    "np.random.binomial(n=2, p=0.0004, size=5000)"
   ]
  },
  {
   "cell_type": "code",
   "execution_count": 53,
   "id": "b19b666b",
   "metadata": {},
   "outputs": [
    {
     "data": {
      "text/plain": [
       "0.2705081785706084"
      ]
     },
     "execution_count": 53,
     "metadata": {},
     "output_type": "execute_result"
    }
   ],
   "source": [
    "count_match(2, 5000)*(np.math.pow(0.0004, 2)*(np.math.pow(1-0.0004, 5000)))"
   ]
  },
  {
   "cell_type": "markdown",
   "id": "0a7ebe3d",
   "metadata": {},
   "source": [
    "Задача №3"
   ]
  },
  {
   "cell_type": "code",
   "execution_count": 56,
   "id": "eec1ae43",
   "metadata": {},
   "outputs": [
    {
     "data": {
      "text/plain": [
       "array([40, 36, 35, 31, 37, 41, 38, 32, 37, 40, 31, 34, 33, 39, 39, 41, 35,\n",
       "       35, 30, 32, 42, 35, 33, 32, 36, 26, 36, 42, 36, 34, 33, 35, 38, 27,\n",
       "       39, 38, 33, 30, 31, 38, 32, 39, 34, 33, 25, 33, 30, 37, 36, 34, 36,\n",
       "       28, 39, 39, 29, 44, 31, 34, 46, 39, 39, 42, 31, 36, 40, 30, 40, 30,\n",
       "       38, 42, 31, 36, 35, 40, 41, 38, 34, 33, 38, 34, 33, 33, 34, 30, 30,\n",
       "       33, 38, 43, 33, 20, 33, 40, 36, 32, 37, 33, 38, 37, 37, 32, 39, 32,\n",
       "       37, 39, 32, 32, 36, 39, 29, 33, 30, 32, 36, 43, 33, 37, 41, 37, 35,\n",
       "       44, 35, 40, 38, 43, 43, 37, 33, 34, 27, 35, 32, 38, 35, 33, 35, 31,\n",
       "       34, 43, 35, 41, 38, 35, 36, 34])"
      ]
     },
     "execution_count": 56,
     "metadata": {},
     "output_type": "execute_result"
    }
   ],
   "source": [
    "np.random.binomial(n=70, p=0.5, size=144)"
   ]
  },
  {
   "cell_type": "code",
   "execution_count": 59,
   "id": "a2c04510",
   "metadata": {},
   "outputs": [
    {
     "data": {
      "text/plain": [
       "0.06281178035144776"
      ]
     },
     "execution_count": 59,
     "metadata": {},
     "output_type": "execute_result"
    }
   ],
   "source": [
    "count_match(70, 144)*(np.math.pow(0.5, 70)*(np.math.pow(1-0.5, 144-70)))"
   ]
  },
  {
   "cell_type": "markdown",
   "id": "cea22261",
   "metadata": {},
   "source": [
    "Задача №4"
   ]
  },
  {
   "cell_type": "code",
   "execution_count": 60,
   "id": "649cbdd3",
   "metadata": {},
   "outputs": [],
   "source": [
    "def bayes_method(num1, num2):\n",
    "    return num1 * num2"
   ]
  },
  {
   "cell_type": "code",
   "execution_count": 71,
   "id": "93691631",
   "metadata": {},
   "outputs": [
    {
     "data": {
      "text/plain": [
       "0.9987878787878788"
      ]
     },
     "execution_count": 71,
     "metadata": {},
     "output_type": "execute_result"
    }
   ],
   "source": [
    "1-bayes_method(1/15, 1/55)"
   ]
  },
  {
   "cell_type": "code",
   "execution_count": null,
   "id": "2b316c74",
   "metadata": {},
   "outputs": [],
   "source": []
  }
 ],
 "metadata": {
  "kernelspec": {
   "display_name": "Python 3 (ipykernel)",
   "language": "python",
   "name": "python3"
  },
  "language_info": {
   "codemirror_mode": {
    "name": "ipython",
    "version": 3
   },
   "file_extension": ".py",
   "mimetype": "text/x-python",
   "name": "python",
   "nbconvert_exporter": "python",
   "pygments_lexer": "ipython3",
   "version": "3.9.13"
  }
 },
 "nbformat": 4,
 "nbformat_minor": 5
}
