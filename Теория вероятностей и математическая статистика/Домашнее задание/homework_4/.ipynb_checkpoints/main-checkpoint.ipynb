{
 "cells": [
  {
   "cell_type": "code",
   "execution_count": 1,
   "id": "47cc93db",
   "metadata": {},
   "outputs": [],
   "source": [
    "import numpy as np"
   ]
  },
  {
   "cell_type": "markdown",
   "id": "274c22c6",
   "metadata": {},
   "source": [
    "Задача №1"
   ]
  },
  {
   "cell_type": "code",
   "execution_count": 6,
   "id": "ea6c0eba",
   "metadata": {},
   "outputs": [],
   "source": [
    "array = [200, 800]"
   ]
  },
  {
   "cell_type": "code",
   "execution_count": 7,
   "id": "509503df",
   "metadata": {},
   "outputs": [],
   "source": [
    "def average(num1, num2):\n",
    "    return (num1 + num2)/2"
   ]
  },
  {
   "cell_type": "code",
   "execution_count": 11,
   "id": "53e1d423",
   "metadata": {},
   "outputs": [],
   "source": [
    "def variance(num1, num2):\n",
    "    return (np.math.pow(num2 - num1, 2))/12"
   ]
  },
  {
   "cell_type": "code",
   "execution_count": 9,
   "id": "85244248",
   "metadata": {},
   "outputs": [
    {
     "data": {
      "text/plain": [
       "500.0"
      ]
     },
     "execution_count": 9,
     "metadata": {},
     "output_type": "execute_result"
    }
   ],
   "source": [
    "average(array[0], array[1])"
   ]
  },
  {
   "cell_type": "code",
   "execution_count": 12,
   "id": "179a1620",
   "metadata": {},
   "outputs": [
    {
     "data": {
      "text/plain": [
       "30000.0"
      ]
     },
     "execution_count": 12,
     "metadata": {},
     "output_type": "execute_result"
    }
   ],
   "source": [
    "variance(array[0], array[1])"
   ]
  },
  {
   "cell_type": "markdown",
   "id": "fcaa4fb2",
   "metadata": {},
   "source": [
    "Задача №2"
   ]
  },
  {
   "cell_type": "code",
   "execution_count": 13,
   "id": "17eb4a63",
   "metadata": {},
   "outputs": [
    {
     "data": {
      "text/plain": [
       "2.049193338482967"
      ]
     },
     "execution_count": 13,
     "metadata": {},
     "output_type": "execute_result"
    }
   ],
   "source": [
    "b = 0.5 + np.math.sqrt(2.4)\n",
    "b"
   ]
  },
  {
   "cell_type": "code",
   "execution_count": 14,
   "id": "dcbc58cc",
   "metadata": {},
   "outputs": [
    {
     "data": {
      "text/plain": [
       "1.2745966692414834"
      ]
     },
     "execution_count": 14,
     "metadata": {},
     "output_type": "execute_result"
    }
   ],
   "source": [
    "average(0.5, b)"
   ]
  },
  {
   "cell_type": "markdown",
   "id": "f144876e",
   "metadata": {},
   "source": [
    "Задача №4"
   ]
  },
  {
   "cell_type": "code",
   "execution_count": 15,
   "id": "7b002ca1",
   "metadata": {},
   "outputs": [],
   "source": [
    "def z_value_calc(num1):\n",
    "    return (num1 - 174)/8"
   ]
  },
  {
   "cell_type": "code",
   "execution_count": 16,
   "id": "c6892d34",
   "metadata": {},
   "outputs": [],
   "source": [
    "from statistics import NormalDist"
   ]
  },
  {
   "cell_type": "code",
   "execution_count": 17,
   "id": "1e85f495",
   "metadata": {},
   "outputs": [
    {
     "data": {
      "text/plain": [
       "1.0"
      ]
     },
     "execution_count": 17,
     "metadata": {},
     "output_type": "execute_result"
    }
   ],
   "source": [
    "z_value_calc(182)"
   ]
  },
  {
   "cell_type": "code",
   "execution_count": 19,
   "id": "99a41c43",
   "metadata": {},
   "outputs": [
    {
     "data": {
      "text/plain": [
       "0.15865525393145719"
      ]
     },
     "execution_count": 19,
     "metadata": {},
     "output_type": "execute_result"
    }
   ],
   "source": [
    "1-NormalDist().cdf(z_value_calc(182))"
   ]
  },
  {
   "cell_type": "code",
   "execution_count": 39,
   "id": "946dd57a",
   "metadata": {},
   "outputs": [
    {
     "data": {
      "text/plain": [
       "-1.0"
      ]
     },
     "execution_count": 39,
     "metadata": {},
     "output_type": "execute_result"
    }
   ],
   "source": [
    "z_value_calc(166)"
   ]
  },
  {
   "cell_type": "code",
   "execution_count": 22,
   "id": "8f0ba816",
   "metadata": {},
   "outputs": [
    {
     "data": {
      "text/plain": [
       "0.022750131948179098"
      ]
     },
     "execution_count": 22,
     "metadata": {},
     "output_type": "execute_result"
    }
   ],
   "source": [
    "1-NormalDist().cdf(z_value_calc(190))"
   ]
  },
  {
   "cell_type": "code",
   "execution_count": 34,
   "id": "aa29eec8",
   "metadata": {},
   "outputs": [
    {
     "data": {
      "text/plain": [
       "0.9544997361036418"
      ]
     },
     "execution_count": 34,
     "metadata": {},
     "output_type": "execute_result"
    }
   ],
   "source": [
    "NormalDist().cdf(z_value_calc(190))-NormalDist().cdf(z_value_calc(158))"
   ]
  },
  {
   "cell_type": "code",
   "execution_count": 38,
   "id": "27baaa3f",
   "metadata": {},
   "outputs": [
    {
     "data": {
      "text/plain": [
       "0.002699796063260207"
      ]
     },
     "execution_count": 38,
     "metadata": {},
     "output_type": "execute_result"
    }
   ],
   "source": [
    "NormalDist().cdf(z_value_calc(150))+(1-NormalDist().cdf(z_value_calc(198)))"
   ]
  },
  {
   "cell_type": "code",
   "execution_count": 40,
   "id": "7f744d83",
   "metadata": {},
   "outputs": [
    {
     "data": {
      "text/plain": [
       "0.15865525393145713"
      ]
     },
     "execution_count": 40,
     "metadata": {},
     "output_type": "execute_result"
    }
   ],
   "source": [
    "NormalDist().cdf(z_value_calc(166))"
   ]
  },
  {
   "cell_type": "code",
   "execution_count": null,
   "id": "f73af7ac",
   "metadata": {},
   "outputs": [],
   "source": []
  }
 ],
 "metadata": {
  "kernelspec": {
   "display_name": "Python 3 (ipykernel)",
   "language": "python",
   "name": "python3"
  },
  "language_info": {
   "codemirror_mode": {
    "name": "ipython",
    "version": 3
   },
   "file_extension": ".py",
   "mimetype": "text/x-python",
   "name": "python",
   "nbconvert_exporter": "python",
   "pygments_lexer": "ipython3",
   "version": "3.9.13"
  }
 },
 "nbformat": 4,
 "nbformat_minor": 5
}
