{
 "cells": [
  {
   "cell_type": "code",
   "execution_count": 5,
   "id": "008e15ba",
   "metadata": {},
   "outputs": [],
   "source": [
    "import numpy as np\n",
    "import scipy.stats as stats"
   ]
  },
  {
   "cell_type": "code",
   "execution_count": 3,
   "id": "2e8a0cbc",
   "metadata": {},
   "outputs": [
    {
     "data": {
      "text/plain": [
       "2.5"
      ]
     },
     "execution_count": 3,
     "metadata": {},
     "output_type": "execute_result"
    }
   ],
   "source": [
    "z=(17.5-17.0)/0.2\n",
    "z"
   ]
  },
  {
   "cell_type": "code",
   "execution_count": 7,
   "id": "abbd2130",
   "metadata": {},
   "outputs": [
    {
     "data": {
      "text/plain": [
       "1.6448536269514722"
      ]
     },
     "execution_count": 7,
     "metadata": {},
     "output_type": "execute_result"
    }
   ],
   "source": [
    "zt=stats.norm.ppf(1-0.05)\n",
    "zt"
   ]
  },
  {
   "cell_type": "code",
   "execution_count": 8,
   "id": "f016d214",
   "metadata": {},
   "outputs": [
    {
     "data": {
      "text/plain": [
       "True"
      ]
     },
     "execution_count": 8,
     "metadata": {},
     "output_type": "execute_result"
    }
   ],
   "source": [
    "z>zt"
   ]
  },
  {
   "cell_type": "markdown",
   "id": "9c13fafb",
   "metadata": {},
   "source": [
    "Задача №3"
   ]
  },
  {
   "cell_type": "code",
   "execution_count": 10,
   "id": "aa51bb65",
   "metadata": {},
   "outputs": [
    {
     "data": {
      "text/plain": [
       "array([202, 203, 199, 197, 195, 201, 200, 204, 194, 190])"
      ]
     },
     "execution_count": 10,
     "metadata": {},
     "output_type": "execute_result"
    }
   ],
   "source": [
    "cookie_wght = np.array([202, 203, 199, 197, 195, 201, 200, 204, 194, 190])\n",
    "cookie_wght"
   ]
  },
  {
   "cell_type": "code",
   "execution_count": 11,
   "id": "83cf1318",
   "metadata": {},
   "outputs": [
    {
     "data": {
      "text/plain": [
       "4.453463071962462"
      ]
     },
     "execution_count": 11,
     "metadata": {},
     "output_type": "execute_result"
    }
   ],
   "source": [
    "average = np.mean(cookie_wght)\n",
    "std_calc = np.std(cookie_wght, ddof=1)\n",
    "std_calc"
   ]
  },
  {
   "cell_type": "code",
   "execution_count": 13,
   "id": "70845d86",
   "metadata": {},
   "outputs": [
    {
     "data": {
      "text/plain": [
       "-1.0651074037450896"
      ]
     },
     "execution_count": 13,
     "metadata": {},
     "output_type": "execute_result"
    }
   ],
   "source": [
    "t_criteria=(average-200)/(std_calc/np.math.sqrt(len(cookie_wght)))\n",
    "t_criteria"
   ]
  },
  {
   "cell_type": "code",
   "execution_count": 14,
   "id": "67dc7f61",
   "metadata": {},
   "outputs": [
    {
     "data": {
      "text/plain": [
       "3.2498355440153697"
      ]
     },
     "execution_count": 14,
     "metadata": {},
     "output_type": "execute_result"
    }
   ],
   "source": [
    "t_table_cr=stats.t.ppf(1-0.005, len(cookie_wght)-1)\n",
    "t_table_cr"
   ]
  },
  {
   "cell_type": "markdown",
   "id": "2da27a28",
   "metadata": {},
   "source": [
    "Задача №4"
   ]
  },
  {
   "cell_type": "code",
   "execution_count": 15,
   "id": "af67cb06",
   "metadata": {},
   "outputs": [],
   "source": [
    "mother_height = [172, 177, 158, 170, 178,175, 164, 160, 169, 165]\n",
    "daughters_height = [173, 175, 162, 174, 175, 168, 155, 170, 160]"
   ]
  },
  {
   "cell_type": "code",
   "execution_count": 17,
   "id": "92dafa9d",
   "metadata": {},
   "outputs": [
    {
     "data": {
      "text/plain": [
       "9"
      ]
     },
     "execution_count": 17,
     "metadata": {},
     "output_type": "execute_result"
    }
   ],
   "source": [
    "len(daughters_height)"
   ]
  },
  {
   "cell_type": "code",
   "execution_count": 26,
   "id": "ff6aacfc",
   "metadata": {},
   "outputs": [
    {
     "name": "stdout",
     "output_type": "stream",
     "text": [
      "Стандартное отклонение = 6.941021378570864\n",
      "Средняя арифмитическая = 168.8\n",
      "Дисперсия = 43.36\n",
      "Медиана = 169.5\n"
     ]
    }
   ],
   "source": [
    "print(f'Стандартное отклонение = {np.std(mother_height, ddof=1)}')\n",
    "print(f'Средняя арифмитическая = {np.mean(mother_height)}')\n",
    "print(f'Дисперсия = {np.var(mother_height)}')\n",
    "print(f'Медиана = {np.median(mother_height)}')"
   ]
  },
  {
   "cell_type": "code",
   "execution_count": 27,
   "id": "6c08e268",
   "metadata": {},
   "outputs": [
    {
     "name": "stdout",
     "output_type": "stream",
     "text": [
      "Стандартное отклонение = 7.3484692283495345\n",
      "Средняя арифмитическая = 168.0\n",
      "Дисперсия = 48.0\n",
      "Медиана = 170.0\n"
     ]
    }
   ],
   "source": [
    "print(f'Стандартное отклонение = {np.std(daughters_height, ddof=1)}')\n",
    "print(f'Средняя арифмитическая = {np.mean(daughters_height)}')\n",
    "print(f'Дисперсия = {np.var(daughters_height)}')\n",
    "print(f'Медиана = {np.median(daughters_height)}')"
   ]
  },
  {
   "cell_type": "code",
   "execution_count": null,
   "id": "aced6e07",
   "metadata": {},
   "outputs": [],
   "source": []
  }
 ],
 "metadata": {
  "kernelspec": {
   "display_name": "Python 3 (ipykernel)",
   "language": "python",
   "name": "python3"
  },
  "language_info": {
   "codemirror_mode": {
    "name": "ipython",
    "version": 3
   },
   "file_extension": ".py",
   "mimetype": "text/x-python",
   "name": "python",
   "nbconvert_exporter": "python",
   "pygments_lexer": "ipython3",
   "version": "3.9.13"
  }
 },
 "nbformat": 4,
 "nbformat_minor": 5
}
