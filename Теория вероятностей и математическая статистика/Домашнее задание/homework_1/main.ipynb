{
 "cells": [
  {
   "cell_type": "code",
   "execution_count": 1,
   "id": "3611ad3c",
   "metadata": {},
   "outputs": [],
   "source": [
    "import numpy as np"
   ]
  },
  {
   "cell_type": "code",
   "execution_count": 2,
   "id": "f961e4a7",
   "metadata": {},
   "outputs": [],
   "source": [
    "def factor_calc(num1):\n",
    "    return np.math.factorial(num1)"
   ]
  },
  {
   "cell_type": "code",
   "execution_count": 3,
   "id": "ebee26e9",
   "metadata": {},
   "outputs": [],
   "source": [
    "def count_match(num1, num2):\n",
    "    numerator = factor_calc(num2)\n",
    "    denominator = factor_calc((num2 - num1)) * factor_calc(num1)\n",
    "    return numerator / denominator"
   ]
  },
  {
   "cell_type": "markdown",
   "id": "3e571c00",
   "metadata": {},
   "source": [
    "Задача №1 (a)"
   ]
  },
  {
   "cell_type": "code",
   "execution_count": 4,
   "id": "9a132599",
   "metadata": {},
   "outputs": [
    {
     "data": {
      "text/plain": [
       "0.26410564225690275"
      ]
     },
     "execution_count": 4,
     "metadata": {},
     "output_type": "execute_result"
    }
   ],
   "source": [
    "(count_match(4, 13) / count_match(4, 52))*100"
   ]
  },
  {
   "cell_type": "markdown",
   "id": "50f8ea00",
   "metadata": {},
   "source": [
    "Задача №1 (б)"
   ]
  },
  {
   "cell_type": "code",
   "execution_count": 19,
   "id": "37b96d78",
   "metadata": {},
   "outputs": [
    {
     "data": {
      "text/plain": [
       "25.555083571890297"
      ]
     },
     "execution_count": 19,
     "metadata": {},
     "output_type": "execute_result"
    }
   ],
   "source": [
    "((count_match(1, 4)*count_match(3, 48)) / count_match(4, 52))*100"
   ]
  },
  {
   "cell_type": "markdown",
   "id": "4e49ea64",
   "metadata": {},
   "source": [
    "Задача №2"
   ]
  },
  {
   "cell_type": "code",
   "execution_count": 27,
   "id": "7a5f0cb2",
   "metadata": {},
   "outputs": [
    {
     "data": {
      "text/plain": [
       "0.8333333333333334"
      ]
     },
     "execution_count": 27,
     "metadata": {},
     "output_type": "execute_result"
    }
   ],
   "source": [
    "(count_match(1, 1)/count_match(3, 10))*100"
   ]
  },
  {
   "cell_type": "markdown",
   "id": "dd720b16",
   "metadata": {},
   "source": [
    "Задача №3"
   ]
  },
  {
   "cell_type": "code",
   "execution_count": 35,
   "id": "b36c0a11",
   "metadata": {},
   "outputs": [
    {
     "data": {
      "text/plain": [
       "18.461538461538463"
      ]
     },
     "execution_count": 35,
     "metadata": {},
     "output_type": "execute_result"
    }
   ],
   "source": [
    "((count_match(3, 9)*count_match(0, 6)) / count_match(3, 15))*100"
   ]
  },
  {
   "cell_type": "markdown",
   "id": "2200b9cb",
   "metadata": {},
   "source": [
    "Задача №4"
   ]
  },
  {
   "cell_type": "code",
   "execution_count": 36,
   "id": "34f90da5",
   "metadata": {},
   "outputs": [
    {
     "data": {
      "text/plain": [
       "0.0202020202020202"
      ]
     },
     "execution_count": 36,
     "metadata": {},
     "output_type": "execute_result"
    }
   ],
   "source": [
    "(count_match(2, 2)/count_match(2, 100))*100"
   ]
  },
  {
   "cell_type": "code",
   "execution_count": 39,
   "id": "a476ebda",
   "metadata": {},
   "outputs": [
    {
     "data": {
      "text/plain": [
       "1.0"
      ]
     },
     "execution_count": 39,
     "metadata": {},
     "output_type": "execute_result"
    }
   ],
   "source": [
    "count_match(2, 2)"
   ]
  },
  {
   "cell_type": "code",
   "execution_count": 43,
   "id": "54c7d43b",
   "metadata": {},
   "outputs": [
    {
     "data": {
      "text/plain": [
       "93326215443944152681699238856266700490715968264381621468592963895217599993229915608941463976156518286253697920827223758251185210916864000000000000000000000000"
      ]
     },
     "execution_count": 43,
     "metadata": {},
     "output_type": "execute_result"
    }
   ],
   "source": [
    "factor_calc(100)"
   ]
  },
  {
   "cell_type": "code",
   "execution_count": null,
   "id": "34d858d1",
   "metadata": {},
   "outputs": [],
   "source": []
  }
 ],
 "metadata": {
  "kernelspec": {
   "display_name": "Python 3 (ipykernel)",
   "language": "python",
   "name": "python3"
  },
  "language_info": {
   "codemirror_mode": {
    "name": "ipython",
    "version": 3
   },
   "file_extension": ".py",
   "mimetype": "text/x-python",
   "name": "python",
   "nbconvert_exporter": "python",
   "pygments_lexer": "ipython3",
   "version": "3.9.13"
  }
 },
 "nbformat": 4,
 "nbformat_minor": 5
}
