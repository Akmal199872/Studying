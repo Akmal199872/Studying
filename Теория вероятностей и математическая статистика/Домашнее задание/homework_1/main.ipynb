{
 "cells": [
  {
   "cell_type": "code",
   "execution_count": 1,
   "id": "47f1da7c",
   "metadata": {},
   "outputs": [],
   "source": [
    "import numpy as np"
   ]
  },
  {
   "cell_type": "code",
   "execution_count": 2,
   "id": "d84b734a",
   "metadata": {},
   "outputs": [],
   "source": [
    "def factor_calc(num1):\n",
    "    return np.math.factorial(num1)"
   ]
  },
  {
   "cell_type": "code",
   "execution_count": 3,
   "id": "a014a3e2",
   "metadata": {},
   "outputs": [],
   "source": [
    "def count_match(num1, num2):\n",
    "    numerator = factor_calc(num2)\n",
    "    denominator = factor_calc((num2 - num1)) * factor_calc(num1)\n",
    "    return numerator / denominator"
   ]
  },
  {
   "cell_type": "markdown",
   "id": "170d28ae",
   "metadata": {},
   "source": [
    "Задача №1 (a)"
   ]
  },
  {
   "cell_type": "code",
   "execution_count": 4,
   "id": "5013762e",
   "metadata": {},
   "outputs": [
    {
     "data": {
      "text/plain": [
       "0.26410564225690275"
      ]
     },
     "execution_count": 4,
     "metadata": {},
     "output_type": "execute_result"
    }
   ],
   "source": [
    "(count_match(4, 13) / count_match(4, 52))*100"
   ]
  },
  {
   "cell_type": "markdown",
   "id": "70def213",
   "metadata": {},
   "source": [
    "Задача №1 (б)"
   ]
  },
  {
   "cell_type": "code",
   "execution_count": 5,
   "id": "389efc25",
   "metadata": {},
   "outputs": [
    {
     "data": {
      "text/plain": [
       "25.555083571890297"
      ]
     },
     "execution_count": 5,
     "metadata": {},
     "output_type": "execute_result"
    }
   ],
   "source": [
    "((count_match(1, 4)*count_match(3, 48)) / count_match(4, 52))*100"
   ]
  },
  {
   "cell_type": "markdown",
   "id": "a4af06ac",
   "metadata": {},
   "source": [
    "Задача №2"
   ]
  },
  {
   "cell_type": "code",
   "execution_count": 6,
   "id": "efc1387d",
   "metadata": {},
   "outputs": [
    {
     "data": {
      "text/plain": [
       "0.8333333333333334"
      ]
     },
     "execution_count": 6,
     "metadata": {},
     "output_type": "execute_result"
    }
   ],
   "source": [
    "(count_match(1, 1)/count_match(3, 10))*100"
   ]
  },
  {
   "cell_type": "markdown",
   "id": "221853f8",
   "metadata": {},
   "source": [
    "Задача №3"
   ]
  },
  {
   "cell_type": "code",
   "execution_count": 7,
   "id": "40fe8ae1",
   "metadata": {},
   "outputs": [
    {
     "data": {
      "text/plain": [
       "18.461538461538463"
      ]
     },
     "execution_count": 7,
     "metadata": {},
     "output_type": "execute_result"
    }
   ],
   "source": [
    "((count_match(3, 9)*count_match(0, 6)) / count_match(3, 15))*100"
   ]
  },
  {
   "cell_type": "markdown",
   "id": "3aa33047",
   "metadata": {},
   "source": [
    "Задача №4"
   ]
  },
  {
   "cell_type": "code",
   "execution_count": 8,
   "id": "d69c146b",
   "metadata": {},
   "outputs": [
    {
     "data": {
      "text/plain": [
       "0.0202020202020202"
      ]
     },
     "execution_count": 8,
     "metadata": {},
     "output_type": "execute_result"
    }
   ],
   "source": [
    "(count_match(2, 2)/count_match(2, 100))*100"
   ]
  },
  {
   "cell_type": "code",
   "execution_count": 9,
   "id": "078a4c8b",
   "metadata": {},
   "outputs": [
    {
     "data": {
      "text/plain": [
       "1.0"
      ]
     },
     "execution_count": 9,
     "metadata": {},
     "output_type": "execute_result"
    }
   ],
   "source": [
    "count_match(2, 2)"
   ]
  },
  {
   "cell_type": "code",
   "execution_count": 10,
   "id": "fba81514",
   "metadata": {},
   "outputs": [
    {
     "data": {
      "text/plain": [
       "93326215443944152681699238856266700490715968264381621468592963895217599993229915608941463976156518286253697920827223758251185210916864000000000000000000000000"
      ]
     },
     "execution_count": 10,
     "metadata": {},
     "output_type": "execute_result"
    }
   ],
   "source": [
    "factor_calc(100)"
   ]
  },
  {
   "cell_type": "code",
   "execution_count": null,
   "id": "810fa121",
   "metadata": {},
   "outputs": [],
   "source": []
  }
 ],
 "metadata": {
  "kernelspec": {
   "display_name": "Python 3 (ipykernel)",
   "language": "python",
   "name": "python3"
  },
  "language_info": {
   "codemirror_mode": {
    "name": "ipython",
    "version": 3
   },
   "file_extension": ".py",
   "mimetype": "text/x-python",
   "name": "python",
   "nbconvert_exporter": "python",
   "pygments_lexer": "ipython3",
   "version": "3.9.13"
  }
 },
 "nbformat": 4,
 "nbformat_minor": 5
}
