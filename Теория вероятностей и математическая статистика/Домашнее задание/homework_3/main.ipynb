{
 "cells": [
  {
   "cell_type": "code",
   "execution_count": 1,
   "id": "7cbff7b8",
   "metadata": {},
   "outputs": [],
   "source": [
    "import numpy as np"
   ]
  },
  {
   "cell_type": "code",
   "execution_count": 2,
   "id": "b5bfe58a",
   "metadata": {},
   "outputs": [
    {
     "data": {
      "text/plain": [
       "[100,\n",
       " 80,\n",
       " 75,\n",
       " 77,\n",
       " 89,\n",
       " 33,\n",
       " 45,\n",
       " 25,\n",
       " 65,\n",
       " 17,\n",
       " 30,\n",
       " 24,\n",
       " 57,\n",
       " 55,\n",
       " 70,\n",
       " 75,\n",
       " 65,\n",
       " 84,\n",
       " 90,\n",
       " 150]"
      ]
     },
     "execution_count": 2,
     "metadata": {},
     "output_type": "execute_result"
    }
   ],
   "source": [
    "array = [100, 80, 75, 77, 89, 33, 45, 25, 65, 17, 30, 24, 57, 55, 70, 75, 65, 84, 90, 150]\n",
    "array"
   ]
  },
  {
   "cell_type": "code",
   "execution_count": 3,
   "id": "d1016820",
   "metadata": {},
   "outputs": [
    {
     "data": {
      "text/plain": [
       "65.3"
      ]
     },
     "execution_count": 3,
     "metadata": {},
     "output_type": "execute_result"
    }
   ],
   "source": [
    "np.mean(array)"
   ]
  },
  {
   "cell_type": "code",
   "execution_count": 4,
   "id": "a1e0835a",
   "metadata": {},
   "outputs": [
    {
     "data": {
      "text/plain": [
       "30.823854398825596"
      ]
     },
     "execution_count": 4,
     "metadata": {},
     "output_type": "execute_result"
    }
   ],
   "source": [
    "np.std(array)"
   ]
  },
  {
   "cell_type": "code",
   "execution_count": 5,
   "id": "8d756d19",
   "metadata": {},
   "outputs": [
    {
     "data": {
      "text/plain": [
       "950.11"
      ]
     },
     "execution_count": 5,
     "metadata": {},
     "output_type": "execute_result"
    }
   ],
   "source": [
    "np.var(array)"
   ]
  },
  {
   "cell_type": "code",
   "execution_count": 9,
   "id": "6555a0d8",
   "metadata": {},
   "outputs": [
    {
     "data": {
      "text/plain": [
       "31.624607341019814"
      ]
     },
     "execution_count": 9,
     "metadata": {},
     "output_type": "execute_result"
    }
   ],
   "source": [
    "np.std(array, ddof=1)"
   ]
  },
  {
   "cell_type": "code",
   "execution_count": 10,
   "id": "7efcb8fb",
   "metadata": {},
   "outputs": [
    {
     "data": {
      "text/plain": [
       "1000.1157894736842"
      ]
     },
     "execution_count": 10,
     "metadata": {},
     "output_type": "execute_result"
    }
   ],
   "source": [
    "np.var(array, ddof=1)"
   ]
  },
  {
   "cell_type": "markdown",
   "id": "ff5f3a95",
   "metadata": {},
   "source": [
    "Задача №2"
   ]
  },
  {
   "cell_type": "code",
   "execution_count": 11,
   "id": "a0645526",
   "metadata": {},
   "outputs": [],
   "source": [
    "def factor_calc(num1):\n",
    "    return np.math.factorial(num1)"
   ]
  },
  {
   "cell_type": "code",
   "execution_count": 12,
   "id": "254c3c4c",
   "metadata": {},
   "outputs": [],
   "source": [
    "def count_match(num1, num2):\n",
    "    numerator = factor_calc(num2)\n",
    "    denominator = factor_calc((num2 - num1)) * factor_calc(num1)\n",
    "    return numerator / denominator"
   ]
  },
  {
   "cell_type": "code",
   "execution_count": 26,
   "id": "08005379",
   "metadata": {},
   "outputs": [
    {
     "data": {
      "text/plain": [
       "0.10714285714285714"
      ]
     },
     "execution_count": 26,
     "metadata": {},
     "output_type": "execute_result"
    }
   ],
   "source": [
    "result_1 = count_match(2,3)/count_match(2,8)\n",
    "result_1"
   ]
  },
  {
   "cell_type": "code",
   "execution_count": 27,
   "id": "53f02f70",
   "metadata": {},
   "outputs": [
    {
     "data": {
      "text/plain": [
       "0.1414141414141414"
      ]
     },
     "execution_count": 27,
     "metadata": {},
     "output_type": "execute_result"
    }
   ],
   "source": [
    "result_2 = (count_match(3,5)*count_match(1,7))/count_match(4,12)\n",
    "result_2"
   ]
  },
  {
   "cell_type": "code",
   "execution_count": 28,
   "id": "3aaee42b",
   "metadata": {},
   "outputs": [
    {
     "data": {
      "text/plain": [
       "0.01515151515151515"
      ]
     },
     "execution_count": 28,
     "metadata": {},
     "output_type": "execute_result"
    }
   ],
   "source": [
    "result_1*result_2"
   ]
  },
  {
   "cell_type": "markdown",
   "id": "018bb1b2",
   "metadata": {},
   "source": [
    "Задача №3"
   ]
  },
  {
   "cell_type": "code",
   "execution_count": 29,
   "id": "69a0a57b",
   "metadata": {},
   "outputs": [],
   "source": [
    "array_2 = [0.9, 0.8, 0.6]"
   ]
  },
  {
   "cell_type": "code",
   "execution_count": 30,
   "id": "91858789",
   "metadata": {},
   "outputs": [
    {
     "data": {
      "text/plain": [
       "0.072"
      ]
     },
     "execution_count": 30,
     "metadata": {},
     "output_type": "execute_result"
    }
   ],
   "source": [
    "array_2[0]*(1-array_2[1])*(1-array_2[2])"
   ]
  },
  {
   "cell_type": "code",
   "execution_count": 31,
   "id": "b86b5629",
   "metadata": {},
   "outputs": [
    {
     "data": {
      "text/plain": [
       "0.031999999999999994"
      ]
     },
     "execution_count": 31,
     "metadata": {},
     "output_type": "execute_result"
    }
   ],
   "source": [
    "(1-array_2[0])*array_2[1]*(1-array_2[2])"
   ]
  },
  {
   "cell_type": "code",
   "execution_count": 32,
   "id": "2791ca61",
   "metadata": {},
   "outputs": [
    {
     "data": {
      "text/plain": [
       "0.011999999999999993"
      ]
     },
     "execution_count": 32,
     "metadata": {},
     "output_type": "execute_result"
    }
   ],
   "source": [
    "(1-array_2[0])*(1-array_2[1])*array_2[2]"
   ]
  },
  {
   "cell_type": "markdown",
   "id": "4e636438",
   "metadata": {},
   "source": [
    "Задача №4"
   ]
  },
  {
   "cell_type": "code",
   "execution_count": 33,
   "id": "0e6d4649",
   "metadata": {},
   "outputs": [
    {
     "data": {
      "text/plain": [
       "0.825"
      ]
     },
     "execution_count": 33,
     "metadata": {},
     "output_type": "execute_result"
    }
   ],
   "source": [
    "array_3 = [0.25, 0.25, 0.5]\n",
    "array_4 = [0.8, 0.7, 0.9]\n",
    "result = 0\n",
    "\n",
    "for i in range(3):\n",
    "    result += array_3[i] * array_4[i]\n",
    "result"
   ]
  },
  {
   "cell_type": "code",
   "execution_count": 37,
   "id": "84ac3655",
   "metadata": {},
   "outputs": [
    {
     "name": "stdout",
     "output_type": "stream",
     "text": [
      "0.24242424242424246\n",
      "0.21212121212121213\n",
      "0.5454545454545455\n"
     ]
    }
   ],
   "source": [
    "for i in range(3):\n",
    "    result_2 = (array_3[i] * array_4[i])/result\n",
    "    print(result_2)"
   ]
  },
  {
   "cell_type": "markdown",
   "id": "ac71d217",
   "metadata": {},
   "source": [
    "Задача №5"
   ]
  },
  {
   "cell_type": "code",
   "execution_count": 38,
   "id": "362c9cf5",
   "metadata": {},
   "outputs": [
    {
     "data": {
      "text/plain": [
       "[0.9, 0.8, 0.75]"
      ]
     },
     "execution_count": 38,
     "metadata": {},
     "output_type": "execute_result"
    }
   ],
   "source": [
    "array_5 = [0.1, 0.2, 0.25]\n",
    "array_6 = []\n",
    "for i in range(3):\n",
    "    result_3 = 1 - array_5[i]\n",
    "    array_6.append(result_3)\n",
    "array_6"
   ]
  },
  {
   "cell_type": "code",
   "execution_count": 40,
   "id": "ab0bd52d",
   "metadata": {},
   "outputs": [
    {
     "name": "stdout",
     "output_type": "stream",
     "text": [
      "0.1\n",
      "0.020000000000000004\n",
      "0.005000000000000001\n"
     ]
    },
    {
     "data": {
      "text/plain": [
       "0.005000000000000001"
      ]
     },
     "execution_count": 40,
     "metadata": {},
     "output_type": "execute_result"
    }
   ],
   "source": [
    "res = 1\n",
    "for i in range(len(array_5)):\n",
    "    res *= array_5[i]\n",
    "    print(res)\n",
    "res"
   ]
  },
  {
   "cell_type": "code",
   "execution_count": 45,
   "id": "e605cd84",
   "metadata": {},
   "outputs": [
    {
     "name": "stdout",
     "output_type": "stream",
     "text": [
      "0.1\n",
      "0.2\n",
      "0.75\n"
     ]
    },
    {
     "data": {
      "text/plain": [
       "0.015000000000000003"
      ]
     },
     "execution_count": 45,
     "metadata": {},
     "output_type": "execute_result"
    }
   ],
   "source": [
    "print(array_5[0])\n",
    "print(array_5[1])\n",
    "print(array_6[2])\n",
    "\n",
    "array_5[0]*array_5[1]*array_6[2]"
   ]
  },
  {
   "cell_type": "code",
   "execution_count": 49,
   "id": "634439af",
   "metadata": {},
   "outputs": [
    {
     "data": {
      "text/plain": [
       "0.54"
      ]
     },
     "execution_count": 49,
     "metadata": {},
     "output_type": "execute_result"
    }
   ],
   "source": [
    "res = 1\n",
    "for i in range(3):\n",
    "    res *= array_6[i]\n",
    "res"
   ]
  },
  {
   "cell_type": "code",
   "execution_count": 53,
   "id": "4aa256f4",
   "metadata": {},
   "outputs": [
    {
     "name": "stdout",
     "output_type": "stream",
     "text": [
      "0.9\n",
      "0.2\n",
      "0.75\n"
     ]
    },
    {
     "data": {
      "text/plain": [
       "0.135"
      ]
     },
     "execution_count": 53,
     "metadata": {},
     "output_type": "execute_result"
    }
   ],
   "source": [
    "print(array_6[0])\n",
    "print(array_5[1])\n",
    "print(array_6[2])\n",
    "\n",
    "array_6[0]*array_5[1]*array_6[2]"
   ]
  },
  {
   "cell_type": "code",
   "execution_count": null,
   "id": "3e0357cb",
   "metadata": {},
   "outputs": [],
   "source": []
  }
 ],
 "metadata": {
  "kernelspec": {
   "display_name": "Python 3 (ipykernel)",
   "language": "python",
   "name": "python3"
  },
  "language_info": {
   "codemirror_mode": {
    "name": "ipython",
    "version": 3
   },
   "file_extension": ".py",
   "mimetype": "text/x-python",
   "name": "python",
   "nbconvert_exporter": "python",
   "pygments_lexer": "ipython3",
   "version": "3.9.13"
  }
 },
 "nbformat": 4,
 "nbformat_minor": 5
}
