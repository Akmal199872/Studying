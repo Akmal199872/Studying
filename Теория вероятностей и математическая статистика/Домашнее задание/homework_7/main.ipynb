{
 "cells": [
  {
   "cell_type": "code",
   "execution_count": 5,
   "id": "6b039f33",
   "metadata": {},
   "outputs": [],
   "source": [
    "import numpy as np\n",
    "import scipy.stats as stats"
   ]
  },
  {
   "cell_type": "markdown",
   "id": "b0e46a0e",
   "metadata": {},
   "source": [
    "# Задача №1"
   ]
  },
  {
   "cell_type": "code",
   "execution_count": 4,
   "id": "40af5971",
   "metadata": {},
   "outputs": [],
   "source": [
    "arr_1=np.array([380, 420, 290])\n",
    "arr_2=np.array([140, 360, 200, 900])"
   ]
  },
  {
   "cell_type": "code",
   "execution_count": 14,
   "id": "669212a2",
   "metadata": {},
   "outputs": [
    {
     "data": {
      "text/plain": [
       "[140, 200, 290, 360, 380, 420, 900]"
      ]
     },
     "execution_count": 14,
     "metadata": {},
     "output_type": "execute_result"
    }
   ],
   "source": [
    "new_arr=[]\n",
    "for i in range(len(arr_1)):\n",
    "    new_arr.append(arr_1[i])\n",
    "for i in range(len(arr_2)):\n",
    "    new_arr.append(arr_2[i])\n",
    "new_arr.sort()\n",
    "new_arr"
   ]
  },
  {
   "cell_type": "code",
   "execution_count": 16,
   "id": "83e7f9fd",
   "metadata": {},
   "outputs": [
    {
     "data": {
      "text/plain": [
       "[(1, 140), (2, 200), (3, 290), (4, 360), (5, 380), (6, 420), (7, 900)]"
      ]
     },
     "execution_count": 16,
     "metadata": {},
     "output_type": "execute_result"
    }
   ],
   "source": [
    "list(enumerate(new_arr, start=1))"
   ]
  },
  {
   "cell_type": "code",
   "execution_count": 18,
   "id": "6e4d21c6",
   "metadata": {},
   "outputs": [
    {
     "name": "stdout",
     "output_type": "stream",
     "text": [
      "Выборка №1 =>{5: 380, 6: 420, 3: 290}\n",
      "Выборка №2 =>{1: 140, 4: 360, 2: 200, 7: 900}\n"
     ]
    }
   ],
   "source": [
    "arr_11=[5, 6, 3]\n",
    "arr_21=[1, 4, 2, 7]\n",
    "\n",
    "arr_12=dict(zip(arr_11, arr_1))\n",
    "arr_22=dict(zip(arr_21, arr_2))\n",
    "print(f'Выборка №1 =>{arr_12}')\n",
    "print(f'Выборка №2 =>{arr_22}')"
   ]
  },
  {
   "cell_type": "code",
   "execution_count": 22,
   "id": "33e7d2f7",
   "metadata": {},
   "outputs": [
    {
     "name": "stdout",
     "output_type": "stream",
     "text": [
      "Сумма рангов выборки №1 = 14\n",
      "Сумма рангов выборки №2 = 14\n"
     ]
    }
   ],
   "source": [
    "print(f'Сумма рангов выборки №1 = {sum(arr_12.keys())}')\n",
    "print(f'Сумма рангов выборки №2 = {sum(arr_22.keys())}')"
   ]
  },
  {
   "cell_type": "code",
   "execution_count": 23,
   "id": "bb34b2a3",
   "metadata": {},
   "outputs": [
    {
     "data": {
      "text/plain": [
       "MannwhitneyuResult(statistic=8.0, pvalue=0.6285714285714286)"
      ]
     },
     "execution_count": 23,
     "metadata": {},
     "output_type": "execute_result"
    }
   ],
   "source": [
    "stats.mannwhitneyu(arr_1, arr_2)"
   ]
  },
  {
   "cell_type": "markdown",
   "id": "11b73299",
   "metadata": {},
   "source": [
    "# Задача №2"
   ]
  },
  {
   "cell_type": "code",
   "execution_count": 24,
   "id": "c501c59e",
   "metadata": {},
   "outputs": [],
   "source": [
    "first_range=np.array([150, 160, 165, 145, 155])\n",
    "second_range=np.array([140, 155, 150, 130, 135])\n",
    "third_range=np.array([130, 130, 120, 130, 125])"
   ]
  },
  {
   "cell_type": "code",
   "execution_count": 42,
   "id": "c4ffe577",
   "metadata": {},
   "outputs": [
    {
     "data": {
      "text/plain": [
       "[(1, (150, 140, 130)),\n",
       " (2, (160, 155, 130)),\n",
       " (3, (165, 150, 120)),\n",
       " (4, (145, 130, 130)),\n",
       " (5, (155, 135, 125))]"
      ]
     },
     "execution_count": 42,
     "metadata": {},
     "output_type": "execute_result"
    }
   ],
   "source": [
    "new_range_arr=list(enumerate(zip(first_range, second_range, third_range), start=1))\n",
    "new_range_arr"
   ]
  },
  {
   "cell_type": "code",
   "execution_count": 43,
   "id": "298a791f",
   "metadata": {},
   "outputs": [
    {
     "data": {
      "text/plain": [
       "FriedmanchisquareResult(statistic=9.578947368421062, pvalue=0.00831683351100441)"
      ]
     },
     "execution_count": 43,
     "metadata": {},
     "output_type": "execute_result"
    }
   ],
   "source": [
    "stats.friedmanchisquare(first_range, second_range, third_range)"
   ]
  },
  {
   "cell_type": "markdown",
   "id": "da6d4ee9",
   "metadata": {},
   "source": [
    "# Задача №3"
   ]
  },
  {
   "cell_type": "code",
   "execution_count": 49,
   "id": "5f291608",
   "metadata": {},
   "outputs": [
    {
     "data": {
      "text/plain": [
       "[10, 5, 15, 15, 20]"
      ]
     },
     "execution_count": 49,
     "metadata": {},
     "output_type": "execute_result"
    }
   ],
   "source": [
    "first_range=np.array([150, 160, 165, 145, 155])\n",
    "second_range=np.array([140, 155, 150, 130, 135])\n",
    "new_arr_res=[]\n",
    "result=0\n",
    "for i in range(5):\n",
    "    result=second_range[i]-first_range[i]\n",
    "    new_arr_res.append(abs(result))\n",
    "new_arr_res"
   ]
  },
  {
   "cell_type": "code",
   "execution_count": 56,
   "id": "d725df31",
   "metadata": {},
   "outputs": [
    {
     "name": "stdout",
     "output_type": "stream",
     "text": [
      "[10, 5, 15, 15, 20]\n",
      "[2, 1, 3, 4, 5]\n"
     ]
    }
   ],
   "source": [
    "new_data=[x for x,y in sorted(enumerate(new_arr_res, start=1), key = lambda x: x[1])] \n",
    "print(new_arr_res)\n",
    "print(new_data)"
   ]
  },
  {
   "cell_type": "code",
   "execution_count": 57,
   "id": "c86c435c",
   "metadata": {},
   "outputs": [
    {
     "data": {
      "text/plain": [
       "WilcoxonResult(statistic=0.0, pvalue=0.0625)"
      ]
     },
     "execution_count": 57,
     "metadata": {},
     "output_type": "execute_result"
    }
   ],
   "source": [
    "stats.wilcoxon(first_range, second_range)"
   ]
  },
  {
   "cell_type": "markdown",
   "id": "2107a144",
   "metadata": {},
   "source": [
    "# Задача №4"
   ]
  },
  {
   "cell_type": "code",
   "execution_count": 58,
   "id": "4be0c2e0",
   "metadata": {},
   "outputs": [],
   "source": [
    "list1=np.array([56, 60, 62, 55, 71, 67, 59, 58, 64, 67])\n",
    "list2=np.array([57, 58, 69, 48, 72, 70, 68, 71, 50, 53])\n",
    "list3=np.array([57, 67, 49, 48, 47, 55, 66, 51, 54])"
   ]
  },
  {
   "cell_type": "code",
   "execution_count": 59,
   "id": "c7c11aa0",
   "metadata": {},
   "outputs": [
    {
     "data": {
      "text/plain": [
       "KruskalResult(statistic=5.465564058257224, pvalue=0.0650380998590494)"
      ]
     },
     "execution_count": 59,
     "metadata": {},
     "output_type": "execute_result"
    }
   ],
   "source": [
    "stats.kruskal(list1, list2, list3)"
   ]
  },
  {
   "cell_type": "markdown",
   "id": "0fcb11db",
   "metadata": {},
   "source": [
    "# Задача №5"
   ]
  },
  {
   "cell_type": "code",
   "execution_count": null,
   "id": "0d4cb784",
   "metadata": {},
   "outputs": [],
   "source": []
  }
 ],
 "metadata": {
  "kernelspec": {
   "display_name": "Python 3 (ipykernel)",
   "language": "python",
   "name": "python3"
  },
  "language_info": {
   "codemirror_mode": {
    "name": "ipython",
    "version": 3
   },
   "file_extension": ".py",
   "mimetype": "text/x-python",
   "name": "python",
   "nbconvert_exporter": "python",
   "pygments_lexer": "ipython3",
   "version": "3.9.13"
  }
 },
 "nbformat": 4,
 "nbformat_minor": 5
}
