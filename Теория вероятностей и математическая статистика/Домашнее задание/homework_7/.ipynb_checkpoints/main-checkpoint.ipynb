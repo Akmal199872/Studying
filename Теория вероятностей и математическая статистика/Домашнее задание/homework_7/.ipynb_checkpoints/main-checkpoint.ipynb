{
 "cells": [
  {
   "cell_type": "code",
   "execution_count": 5,
   "id": "19165347",
   "metadata": {},
   "outputs": [],
   "source": [
    "import numpy as np\n",
    "import scipy.stats as stats"
   ]
  },
  {
   "cell_type": "markdown",
   "id": "b2ef31ae",
   "metadata": {},
   "source": [
    "# Задача №1"
   ]
  },
  {
   "cell_type": "code",
   "execution_count": 4,
   "id": "ac414f57",
   "metadata": {},
   "outputs": [],
   "source": [
    "arr_1=np.array([380, 420, 290])\n",
    "arr_2=np.array([140, 360, 200, 900])"
   ]
  },
  {
   "cell_type": "code",
   "execution_count": 14,
   "id": "b0768f19",
   "metadata": {},
   "outputs": [
    {
     "data": {
      "text/plain": [
       "[140, 200, 290, 360, 380, 420, 900]"
      ]
     },
     "execution_count": 14,
     "metadata": {},
     "output_type": "execute_result"
    }
   ],
   "source": [
    "new_arr=[]\n",
    "for i in range(len(arr_1)):\n",
    "    new_arr.append(arr_1[i])\n",
    "for i in range(len(arr_2)):\n",
    "    new_arr.append(arr_2[i])\n",
    "new_arr.sort()\n",
    "new_arr"
   ]
  },
  {
   "cell_type": "code",
   "execution_count": 16,
   "id": "d975b4e9",
   "metadata": {},
   "outputs": [
    {
     "data": {
      "text/plain": [
       "[(1, 140), (2, 200), (3, 290), (4, 360), (5, 380), (6, 420), (7, 900)]"
      ]
     },
     "execution_count": 16,
     "metadata": {},
     "output_type": "execute_result"
    }
   ],
   "source": [
    "list(enumerate(new_arr, start=1))"
   ]
  },
  {
   "cell_type": "code",
   "execution_count": 18,
   "id": "8e356b7a",
   "metadata": {},
   "outputs": [
    {
     "name": "stdout",
     "output_type": "stream",
     "text": [
      "Выборка №1 =>{5: 380, 6: 420, 3: 290}\n",
      "Выборка №2 =>{1: 140, 4: 360, 2: 200, 7: 900}\n"
     ]
    }
   ],
   "source": [
    "arr_11=[5, 6, 3]\n",
    "arr_21=[1, 4, 2, 7]\n",
    "\n",
    "arr_12=dict(zip(arr_11, arr_1))\n",
    "arr_22=dict(zip(arr_21, arr_2))\n",
    "print(f'Выборка №1 =>{arr_12}')\n",
    "print(f'Выборка №2 =>{arr_22}')"
   ]
  },
  {
   "cell_type": "code",
   "execution_count": 22,
   "id": "89a5e835",
   "metadata": {},
   "outputs": [
    {
     "name": "stdout",
     "output_type": "stream",
     "text": [
      "Сумма рангов выборки №1 = 14\n",
      "Сумма рангов выборки №2 = 14\n"
     ]
    }
   ],
   "source": [
    "print(f'Сумма рангов выборки №1 = {sum(arr_12.keys())}')\n",
    "print(f'Сумма рангов выборки №2 = {sum(arr_22.keys())}')"
   ]
  },
  {
   "cell_type": "code",
   "execution_count": 23,
   "id": "3c556910",
   "metadata": {},
   "outputs": [
    {
     "data": {
      "text/plain": [
       "MannwhitneyuResult(statistic=8.0, pvalue=0.6285714285714286)"
      ]
     },
     "execution_count": 23,
     "metadata": {},
     "output_type": "execute_result"
    }
   ],
   "source": [
    "stats.mannwhitneyu(arr_1, arr_2)"
   ]
  },
  {
   "cell_type": "markdown",
   "id": "0833fc25",
   "metadata": {},
   "source": [
    "# Задача №2"
   ]
  },
  {
   "cell_type": "code",
   "execution_count": 24,
   "id": "87c5f3b8",
   "metadata": {},
   "outputs": [],
   "source": [
    "first_range=np.array([150, 160, 165, 145, 155])\n",
    "second_range=np.array([140, 155, 150, 130, 135])\n",
    "third_range=np.array([130, 130, 120, 130, 125])"
   ]
  },
  {
   "cell_type": "code",
   "execution_count": 42,
   "id": "178baf6b",
   "metadata": {},
   "outputs": [
    {
     "data": {
      "text/plain": [
       "[(1, (150, 140, 130)),\n",
       " (2, (160, 155, 130)),\n",
       " (3, (165, 150, 120)),\n",
       " (4, (145, 130, 130)),\n",
       " (5, (155, 135, 125))]"
      ]
     },
     "execution_count": 42,
     "metadata": {},
     "output_type": "execute_result"
    }
   ],
   "source": [
    "new_range_arr=list(enumerate(zip(first_range, second_range, third_range), start=1))\n",
    "new_range_arr"
   ]
  },
  {
   "cell_type": "code",
   "execution_count": 43,
   "id": "6e6418d0",
   "metadata": {},
   "outputs": [
    {
     "data": {
      "text/plain": [
       "FriedmanchisquareResult(statistic=9.578947368421062, pvalue=0.00831683351100441)"
      ]
     },
     "execution_count": 43,
     "metadata": {},
     "output_type": "execute_result"
    }
   ],
   "source": [
    "stats.friedmanchisquare(first_range, second_range, third_range)"
   ]
  },
  {
   "cell_type": "markdown",
   "id": "4e8ff202",
   "metadata": {},
   "source": [
    "# Задача №3"
   ]
  },
  {
   "cell_type": "code",
   "execution_count": 49,
   "id": "639dea96",
   "metadata": {},
   "outputs": [
    {
     "data": {
      "text/plain": [
       "[10, 5, 15, 15, 20]"
      ]
     },
     "execution_count": 49,
     "metadata": {},
     "output_type": "execute_result"
    }
   ],
   "source": [
    "first_range=np.array([150, 160, 165, 145, 155])\n",
    "second_range=np.array([140, 155, 150, 130, 135])\n",
    "new_arr_res=[]\n",
    "result=0\n",
    "for i in range(5):\n",
    "    result=second_range[i]-first_range[i]\n",
    "    new_arr_res.append(abs(result))\n",
    "new_arr_res"
   ]
  },
  {
   "cell_type": "code",
   "execution_count": 56,
   "id": "b15eb887",
   "metadata": {},
   "outputs": [
    {
     "name": "stdout",
     "output_type": "stream",
     "text": [
      "[10, 5, 15, 15, 20]\n",
      "[2, 1, 3, 4, 5]\n"
     ]
    }
   ],
   "source": [
    "new_data=[x for x,y in sorted(enumerate(new_arr_res, start=1), key = lambda x: x[1])] \n",
    "print(new_arr_res)\n",
    "print(new_data)"
   ]
  },
  {
   "cell_type": "code",
   "execution_count": null,
   "id": "f7c6f746",
   "metadata": {},
   "outputs": [],
   "source": []
  }
 ],
 "metadata": {
  "kernelspec": {
   "display_name": "Python 3 (ipykernel)",
   "language": "python",
   "name": "python3"
  },
  "language_info": {
   "codemirror_mode": {
    "name": "ipython",
    "version": 3
   },
   "file_extension": ".py",
   "mimetype": "text/x-python",
   "name": "python",
   "nbconvert_exporter": "python",
   "pygments_lexer": "ipython3",
   "version": "3.9.13"
  }
 },
 "nbformat": 4,
 "nbformat_minor": 5
}
