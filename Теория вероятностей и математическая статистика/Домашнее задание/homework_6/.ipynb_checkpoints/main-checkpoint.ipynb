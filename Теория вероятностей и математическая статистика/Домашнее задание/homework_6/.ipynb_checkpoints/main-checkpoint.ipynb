{
 "cells": [
  {
   "cell_type": "code",
   "execution_count": 1,
   "id": "53655309",
   "metadata": {},
   "outputs": [],
   "source": [
    "import numpy as np\n",
    "import scipy.stats as stats"
   ]
  },
  {
   "cell_type": "markdown",
   "id": "a7c70f2b",
   "metadata": {},
   "source": [
    "# Задача №1"
   ]
  },
  {
   "cell_type": "code",
   "execution_count": 77,
   "id": "373cd5e9",
   "metadata": {},
   "outputs": [],
   "source": [
    "def interval_calc(stand_deviation, safety, aver_num, quant_num):\n",
    "    delta=(safety*stand_deviation)/np.math.sqrt(quant_num)\n",
    "    print(f'{(aver_num-delta)} < alpha < {aver_num+delta}')"
   ]
  },
  {
   "cell_type": "code",
   "execution_count": 78,
   "id": "44ee720a",
   "metadata": {},
   "outputs": [
    {
     "name": "stdout",
     "output_type": "stream",
     "text": [
      "1.6448536269514722\n",
      "Верное значение 1,96\n"
     ]
    }
   ],
   "source": [
    "print(stats.norm.ppf(0.95))\n",
    "print('Верное значение 1,96')"
   ]
  },
  {
   "cell_type": "code",
   "execution_count": 79,
   "id": "f0a8ecf8",
   "metadata": {},
   "outputs": [
    {
     "name": "stdout",
     "output_type": "stream",
     "text": [
      "78.04 < alpha < 81.96\n"
     ]
    }
   ],
   "source": [
    "interval_calc(16, 1.96, 80, 256)"
   ]
  },
  {
   "cell_type": "markdown",
   "id": "8e5ac2fb",
   "metadata": {},
   "source": [
    "# Задача №2"
   ]
  },
  {
   "cell_type": "code",
   "execution_count": 80,
   "id": "ca71a41f",
   "metadata": {},
   "outputs": [
    {
     "name": "stdout",
     "output_type": "stream",
     "text": [
      "Среднее выборочное = 6.590000000000001\n",
      "Среднее квадратическое отклонение (несмещённое) = 0.4508017549014448\n",
      "Дисперсия = 0.1829000000000001\n"
     ]
    }
   ],
   "source": [
    "exper = np.array([6.9, 6.1, 6.2, 6.8, 7.5, 6.3, 6.4, 6.9, 6.7, 6.1])\n",
    "print(f'Среднее выборочное = {np.mean(exper)}')\n",
    "print(f'Среднее квадратическое отклонение (несмещённое) = {np.std(exper, ddof=1)}')\n",
    "print(f'Дисперсия = {np.var(exper)}')"
   ]
  },
  {
   "cell_type": "code",
   "execution_count": 81,
   "id": "b0c359c5",
   "metadata": {},
   "outputs": [
    {
     "data": {
      "text/plain": [
       "2.2621571627409915"
      ]
     },
     "execution_count": 81,
     "metadata": {},
     "output_type": "execute_result"
    }
   ],
   "source": [
    "stats.t.ppf(1-(1-0.95)/2, len(exper)-1)"
   ]
  },
  {
   "cell_type": "code",
   "execution_count": 82,
   "id": "a34d3a9d",
   "metadata": {},
   "outputs": [
    {
     "name": "stdout",
     "output_type": "stream",
     "text": [
      "6.01653307850863 < alpha < 7.163466921491372\n"
     ]
    }
   ],
   "source": [
    "interval_calc(np.std(exper, ddof=1), (stats.t.ppf(1-(1-0.95)/2, len(exper)-1)), np.mean(exper), np.math.sqrt(len(exper)))"
   ]
  },
  {
   "cell_type": "markdown",
   "id": "c9f41c25",
   "metadata": {},
   "source": [
    "# Задача №3"
   ]
  },
  {
   "cell_type": "code",
   "execution_count": null,
   "id": "471c1328",
   "metadata": {},
   "outputs": [],
   "source": [
    "daughter_height=np.array([175, 167, 154, 174, 178, 148, 160, 167, 169, 170])\n",
    "mother_height=np.array([178, 165, 165, 173, 168, 155, 160, 164, 178, 175])"
   ]
  }
 ],
 "metadata": {
  "kernelspec": {
   "display_name": "Python 3 (ipykernel)",
   "language": "python",
   "name": "python3"
  },
  "language_info": {
   "codemirror_mode": {
    "name": "ipython",
    "version": 3
   },
   "file_extension": ".py",
   "mimetype": "text/x-python",
   "name": "python",
   "nbconvert_exporter": "python",
   "pygments_lexer": "ipython3",
   "version": "3.9.13"
  }
 },
 "nbformat": 4,
 "nbformat_minor": 5
}
