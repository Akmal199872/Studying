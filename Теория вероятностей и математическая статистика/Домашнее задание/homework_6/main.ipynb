{
 "cells": [
  {
   "cell_type": "code",
   "execution_count": 1,
   "id": "2685f129",
   "metadata": {},
   "outputs": [],
   "source": [
    "import numpy as np\n",
    "import scipy.stats as stats"
   ]
  },
  {
   "cell_type": "markdown",
   "id": "923429d3",
   "metadata": {},
   "source": [
    "# Задача №1"
   ]
  },
  {
   "cell_type": "code",
   "execution_count": 77,
   "id": "ce30e703",
   "metadata": {},
   "outputs": [],
   "source": [
    "def interval_calc(stand_deviation, safety, aver_num, quant_num):\n",
    "    delta=(safety*stand_deviation)/np.math.sqrt(quant_num)\n",
    "    print(f'{(aver_num-delta)} < alpha < {aver_num+delta}')"
   ]
  },
  {
   "cell_type": "code",
   "execution_count": 78,
   "id": "3f489265",
   "metadata": {},
   "outputs": [
    {
     "name": "stdout",
     "output_type": "stream",
     "text": [
      "1.6448536269514722\n",
      "Верное значение 1,96\n"
     ]
    }
   ],
   "source": [
    "print(stats.norm.ppf(0.95))\n",
    "print('Верное значение 1,96')"
   ]
  },
  {
   "cell_type": "code",
   "execution_count": 79,
   "id": "61987f86",
   "metadata": {},
   "outputs": [
    {
     "name": "stdout",
     "output_type": "stream",
     "text": [
      "78.04 < alpha < 81.96\n"
     ]
    }
   ],
   "source": [
    "interval_calc(16, 1.96, 80, 256)"
   ]
  },
  {
   "cell_type": "markdown",
   "id": "d8b47307",
   "metadata": {},
   "source": [
    "# Задача №2"
   ]
  },
  {
   "cell_type": "code",
   "execution_count": 80,
   "id": "92d92633",
   "metadata": {},
   "outputs": [
    {
     "name": "stdout",
     "output_type": "stream",
     "text": [
      "Среднее выборочное = 6.590000000000001\n",
      "Среднее квадратическое отклонение (несмещённое) = 0.4508017549014448\n",
      "Дисперсия = 0.1829000000000001\n"
     ]
    }
   ],
   "source": [
    "exper = np.array([6.9, 6.1, 6.2, 6.8, 7.5, 6.3, 6.4, 6.9, 6.7, 6.1])\n",
    "print(f'Среднее выборочное = {np.mean(exper)}')\n",
    "print(f'Среднее квадратическое отклонение (несмещённое) = {np.std(exper, ddof=1)}')\n",
    "print(f'Дисперсия = {np.var(exper)}')"
   ]
  },
  {
   "cell_type": "code",
   "execution_count": 81,
   "id": "eb967943",
   "metadata": {},
   "outputs": [
    {
     "data": {
      "text/plain": [
       "2.2621571627409915"
      ]
     },
     "execution_count": 81,
     "metadata": {},
     "output_type": "execute_result"
    }
   ],
   "source": [
    "stats.t.ppf(1-(1-0.95)/2, len(exper)-1)"
   ]
  },
  {
   "cell_type": "code",
   "execution_count": 82,
   "id": "3a7e1160",
   "metadata": {},
   "outputs": [
    {
     "name": "stdout",
     "output_type": "stream",
     "text": [
      "6.01653307850863 < alpha < 7.163466921491372\n"
     ]
    }
   ],
   "source": [
    "interval_calc(np.std(exper, ddof=1), (stats.t.ppf(1-(1-0.95)/2, len(exper)-1)), np.mean(exper), np.math.sqrt(len(exper)))"
   ]
  },
  {
   "cell_type": "markdown",
   "id": "674932fb",
   "metadata": {},
   "source": [
    "# Задача №3"
   ]
  },
  {
   "cell_type": "code",
   "execution_count": 83,
   "id": "b672da4d",
   "metadata": {},
   "outputs": [],
   "source": [
    "daughter_height=np.array([175, 167, 154, 174, 178, 148, 160, 167, 169, 170])\n",
    "mother_height=np.array([178, 165, 165, 173, 168, 155, 160, 164, 178, 175])"
   ]
  },
  {
   "cell_type": "code",
   "execution_count": 110,
   "id": "b4c7699c",
   "metadata": {},
   "outputs": [
    {
     "name": "stdout",
     "output_type": "stream",
     "text": [
      "Разность средних арифметических выборок = 1.9000000000000057\n"
     ]
    }
   ],
   "source": [
    "aver_1=np.mean(daughter_height)\n",
    "aver_2=np.mean(mother_height)\n",
    "diff_aver=aver_2-aver_1\n",
    "print(f'Разность средних арифметических выборок = {diff_aver}')"
   ]
  },
  {
   "cell_type": "code",
   "execution_count": 111,
   "id": "4fb8d401",
   "metadata": {},
   "outputs": [],
   "source": [
    "var_1=np.var(daughter_height, ddof=1)\n",
    "var_2=np.var(mother_height, ddof=1)\n",
    "joined_var=(var_1+var_2)/2\n",
    "std_err=np.math.sqrt((joined_var/10)*2)\n",
    "pow_stat=stats.t.ppf(0.95, 18)"
   ]
  },
  {
   "cell_type": "code",
   "execution_count": 112,
   "id": "12b1e174",
   "metadata": {},
   "outputs": [
    {
     "name": "stdout",
     "output_type": "stream",
     "text": [
      "Несмещённая дисперсия выборки \"дочери\" = 91.06666666666666\n",
      "Несмещённая дисперсия выборки \"матери\" = 60.10000000000001\n",
      "Объединённая оценка дисперсий = 75.58333333333334\n",
      "Стандартная ошибка разности средних = 3.8880157750022915\n",
      "Степени свободы = 1.7340636066175354\n"
     ]
    }
   ],
   "source": [
    "print(f'Несмещённая дисперсия выборки \"дочери\" = {var_1}')\n",
    "print(f'Несмещённая дисперсия выборки \"матери\" = {var_2}')\n",
    "print(f'Объединённая оценка дисперсий = {joined_var}')\n",
    "print(f'Стандартная ошибка разности средних = {std_err}')\n",
    "print(f'Степени свободы = {pow_stat}')"
   ]
  },
  {
   "cell_type": "code",
   "execution_count": 113,
   "id": "f0a94f2a",
   "metadata": {},
   "outputs": [
    {
     "data": {
      "text/plain": [
       "-4.84206665738634"
      ]
     },
     "execution_count": 113,
     "metadata": {},
     "output_type": "execute_result"
    }
   ],
   "source": [
    "low_row=diff_aver-pow_stat*std_err\n",
    "low_row"
   ]
  },
  {
   "cell_type": "code",
   "execution_count": 114,
   "id": "88af0a6c",
   "metadata": {},
   "outputs": [
    {
     "data": {
      "text/plain": [
       "8.642066657386351"
      ]
     },
     "execution_count": 114,
     "metadata": {},
     "output_type": "execute_result"
    }
   ],
   "source": [
    "top_row=diff_aver+pow_stat*std_err\n",
    "top_row"
   ]
  },
  {
   "cell_type": "code",
   "execution_count": null,
   "id": "8a3c2e2a",
   "metadata": {},
   "outputs": [],
   "source": []
  }
 ],
 "metadata": {
  "kernelspec": {
   "display_name": "Python 3 (ipykernel)",
   "language": "python",
   "name": "python3"
  },
  "language_info": {
   "codemirror_mode": {
    "name": "ipython",
    "version": 3
   },
   "file_extension": ".py",
   "mimetype": "text/x-python",
   "name": "python",
   "nbconvert_exporter": "python",
   "pygments_lexer": "ipython3",
   "version": "3.9.13"
  }
 },
 "nbformat": 4,
 "nbformat_minor": 5
}
