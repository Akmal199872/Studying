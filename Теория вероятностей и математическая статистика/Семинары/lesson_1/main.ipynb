{
 "cells": [
  {
   "cell_type": "markdown",
   "id": "636678cd",
   "metadata": {},
   "source": [
    "Задача №1"
   ]
  },
  {
   "cell_type": "code",
   "execution_count": 1,
   "id": "390e1a18",
   "metadata": {},
   "outputs": [],
   "source": [
    "import numpy as np"
   ]
  },
  {
   "cell_type": "code",
   "execution_count": 5,
   "id": "2cce0495",
   "metadata": {},
   "outputs": [],
   "source": [
    "def factor_calc(num1, num2):\n",
    "    return (np.math.factorial(num2))/(np.math.factorial((num2-num1))*(np.math.factorial(num1)))"
   ]
  },
  {
   "cell_type": "code",
   "execution_count": 8,
   "id": "40323cef",
   "metadata": {},
   "outputs": [
    {
     "data": {
      "text/plain": [
       "252.0"
      ]
     },
     "execution_count": 8,
     "metadata": {},
     "output_type": "execute_result"
    }
   ],
   "source": [
    "factor_calc(5,10)"
   ]
  },
  {
   "cell_type": "code",
   "execution_count": 9,
   "id": "55fdcdae",
   "metadata": {},
   "outputs": [
    {
     "data": {
      "text/plain": [
       "0.4166666666666667"
      ]
     },
     "execution_count": 9,
     "metadata": {},
     "output_type": "execute_result"
    }
   ],
   "source": [
    "result = (factor_calc(1,3)*factor_calc(4,7))/(factor_calc(5,10))\n",
    "result"
   ]
  },
  {
   "cell_type": "markdown",
   "id": "53aed7be",
   "metadata": {},
   "source": [
    "Задача №2"
   ]
  },
  {
   "cell_type": "code",
   "execution_count": 14,
   "id": "a5804111",
   "metadata": {},
   "outputs": [
    {
     "data": {
      "text/plain": [
       "38760.0"
      ]
     },
     "execution_count": 14,
     "metadata": {},
     "output_type": "execute_result"
    }
   ],
   "source": [
    "factor_calc(6,20)"
   ]
  },
  {
   "cell_type": "code",
   "execution_count": 10,
   "id": "70df692d",
   "metadata": {},
   "outputs": [
    {
     "data": {
      "text/plain": [
       "0.15479876160990713"
      ]
     },
     "execution_count": 10,
     "metadata": {},
     "output_type": "execute_result"
    }
   ],
   "source": [
    "result2 = (factor_calc(3,10)*factor_calc(2,5)*factor_calc(1,5))/(factor_calc(6,20))\n",
    "result2"
   ]
  },
  {
   "cell_type": "code",
   "execution_count": 16,
   "id": "0f9eac0d",
   "metadata": {},
   "outputs": [
    {
     "data": {
      "text/plain": [
       "1.6666666666666667"
      ]
     },
     "execution_count": 16,
     "metadata": {},
     "output_type": "execute_result"
    }
   ],
   "source": [
    "1/60*100"
   ]
  },
  {
   "cell_type": "code",
   "execution_count": 17,
   "id": "372b8303",
   "metadata": {},
   "outputs": [
    {
     "data": {
      "text/plain": [
       "0.6153846153846154"
      ]
     },
     "execution_count": 17,
     "metadata": {},
     "output_type": "execute_result"
    }
   ],
   "source": [
    "24/39"
   ]
  },
  {
   "cell_type": "code",
   "execution_count": 19,
   "id": "e520e093",
   "metadata": {},
   "outputs": [
    {
     "data": {
      "text/plain": [
       "0.9790209790209792"
      ]
     },
     "execution_count": 19,
     "metadata": {},
     "output_type": "execute_result"
    }
   ],
   "source": [
    "0.07/0.0715"
   ]
  },
  {
   "cell_type": "code",
   "execution_count": null,
   "id": "c199c0f2",
   "metadata": {},
   "outputs": [],
   "source": []
  }
 ],
 "metadata": {
  "kernelspec": {
   "display_name": "Python 3 (ipykernel)",
   "language": "python",
   "name": "python3"
  },
  "language_info": {
   "codemirror_mode": {
    "name": "ipython",
    "version": 3
   },
   "file_extension": ".py",
   "mimetype": "text/x-python",
   "name": "python",
   "nbconvert_exporter": "python",
   "pygments_lexer": "ipython3",
   "version": "3.9.13"
  }
 },
 "nbformat": 4,
 "nbformat_minor": 5
}
