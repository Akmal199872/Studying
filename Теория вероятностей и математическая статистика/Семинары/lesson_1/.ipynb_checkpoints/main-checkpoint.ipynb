{
 "cells": [
  {
   "cell_type": "markdown",
   "id": "b5d8bd2c",
   "metadata": {},
   "source": [
    "Задача №1"
   ]
  },
  {
   "cell_type": "code",
   "execution_count": 1,
   "id": "f02fc1dc",
   "metadata": {},
   "outputs": [],
   "source": [
    "import numpy as np"
   ]
  },
  {
   "cell_type": "code",
   "execution_count": 5,
   "id": "074533e6",
   "metadata": {},
   "outputs": [],
   "source": [
    "def factor_calc(num1, num2):\n",
    "    return (np.math.factorial(num2))/(np.math.factorial((num2-num1))*(np.math.factorial(num1)))"
   ]
  },
  {
   "cell_type": "code",
   "execution_count": 8,
   "id": "e2f36941",
   "metadata": {},
   "outputs": [
    {
     "data": {
      "text/plain": [
       "252.0"
      ]
     },
     "execution_count": 8,
     "metadata": {},
     "output_type": "execute_result"
    }
   ],
   "source": [
    "factor_calc(5,10)"
   ]
  },
  {
   "cell_type": "code",
   "execution_count": 9,
   "id": "c4a9ee26",
   "metadata": {},
   "outputs": [
    {
     "data": {
      "text/plain": [
       "0.4166666666666667"
      ]
     },
     "execution_count": 9,
     "metadata": {},
     "output_type": "execute_result"
    }
   ],
   "source": [
    "result = (factor_calc(1,3)*factor_calc(4,7))/(factor_calc(5,10))\n",
    "result"
   ]
  },
  {
   "cell_type": "code",
   "execution_count": null,
   "id": "a143a4c3",
   "metadata": {},
   "outputs": [],
   "source": []
  }
 ],
 "metadata": {
  "kernelspec": {
   "display_name": "Python 3 (ipykernel)",
   "language": "python",
   "name": "python3"
  },
  "language_info": {
   "codemirror_mode": {
    "name": "ipython",
    "version": 3
   },
   "file_extension": ".py",
   "mimetype": "text/x-python",
   "name": "python",
   "nbconvert_exporter": "python",
   "pygments_lexer": "ipython3",
   "version": "3.9.13"
  }
 },
 "nbformat": 4,
 "nbformat_minor": 5
}
